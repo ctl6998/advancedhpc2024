{
 "cells": [
  {
   "cell_type": "code",
   "execution_count": 4,
   "metadata": {},
   "outputs": [],
   "source": [
    "import numpy as np\n",
    "from numba import cuda"
   ]
  },
  {
   "cell_type": "code",
   "execution_count": 5,
   "metadata": {},
   "outputs": [
    {
     "name": "stdout",
     "output_type": "stream",
     "text": [
      "Input array: [ 1  2  3  4  5  6  7  8  9 10]\n",
      "Output array: [ 2  4  6  8 10 12 14 16 18 20]\n"
     ]
    },
    {
     "name": "stderr",
     "output_type": "stream",
     "text": [
      "/home/ctl6998/miniconda3/envs/hpc/lib/python3.10/site-packages/numba/cuda/dispatcher.py:536: NumbaPerformanceWarning: Grid size 1 will likely result in GPU under-utilization due to low occupancy.\n",
      "  warn(NumbaPerformanceWarning(msg))\n"
     ]
    }
   ],
   "source": [
    "@cuda.jit\n",
    "def double_elements(src, dst):\n",
    "    # Get the thread position in the grid\n",
    "    tid = cuda.threadIdx.x + cuda.blockIdx.x * cuda.blockDim.x\n",
    "    \n",
    "    # Make sure we don't go out of bounds\n",
    "    if tid < src.size:\n",
    "        # Map function f(x) = 2x\n",
    "        dst[tid] = 2 * src[tid]\n",
    "\n",
    "def main():\n",
    "    src_array = np.array(\n",
    "        [1, 2, 3, 4, 5, 6, 7, 8, 9, 10], \n",
    "        dtype=np.int32\n",
    "    )\n",
    "    print(\"Input array:\", src_array)\n",
    "    \n",
    "    # CPU to GPU\n",
    "    d_src = cuda.to_device(src_array)\n",
    "    d_dst = cuda.device_array_like(d_src)\n",
    "    \n",
    "    # CPU ask GPU\n",
    "    block_size = 256  # threads per block\n",
    "    grid_size = (src_array.size + block_size - 1) // block_size\n",
    "    \n",
    "    # GPU with kernel\n",
    "    double_elements[grid_size, block_size](d_src, d_dst)\n",
    "    cuda.synchronize()\n",
    "    \n",
    "    # GPU to CPU\n",
    "    result = d_dst.copy_to_host()\n",
    "    print(\"Output array:\", result)\n",
    "\n",
    "if __name__ == '__main__':\n",
    "    main()"
   ]
  }
 ],
 "metadata": {
  "kernelspec": {
   "display_name": "hpc",
   "language": "python",
   "name": "python3"
  },
  "language_info": {
   "codemirror_mode": {
    "name": "ipython",
    "version": 3
   },
   "file_extension": ".py",
   "mimetype": "text/x-python",
   "name": "python",
   "nbconvert_exporter": "python",
   "pygments_lexer": "ipython3",
   "version": "3.10.15"
  }
 },
 "nbformat": 4,
 "nbformat_minor": 2
}
