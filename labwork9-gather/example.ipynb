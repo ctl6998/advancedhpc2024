{
 "cells": [
  {
   "cell_type": "code",
   "execution_count": 1,
   "metadata": {},
   "outputs": [],
   "source": [
    "import numpy as np\n",
    "from numba import cuda\n",
    "import numpy.typing as npt"
   ]
  },
  {
   "cell_type": "code",
   "execution_count": 2,
   "metadata": {},
   "outputs": [],
   "source": [
    "@cuda.jit\n",
    "def gather_kernel(src: npt.NDArray, dst: npt.NDArray, lookup: npt.NDArray):\n",
    "    tid = cuda.threadIdx.x + cuda.blockIdx.x * cuda.blockDim.x\n",
    "    \n",
    "    if tid < dst.size:\n",
    "        dst[tid] = src[lookup[tid]] #gather"
   ]
  },
  {
   "cell_type": "code",
   "execution_count": 3,
   "metadata": {},
   "outputs": [
    {
     "name": "stderr",
     "output_type": "stream",
     "text": [
      "/home/ctl6998/miniconda3/envs/hpc/lib/python3.10/site-packages/numba/cuda/dispatcher.py:536: NumbaPerformanceWarning: Grid size 1 will likely result in GPU under-utilization due to low occupancy.\n",
      "  warn(NumbaPerformanceWarning(msg))\n"
     ]
    },
    {
     "name": "stdout",
     "output_type": "stream",
     "text": [
      "Source array: [10 20 30 40 50 60]\n",
      "Lookup table (values to gather): [5 2 0 3 1 4]\n",
      "Result array: [60 30 10 40 20 50]\n"
     ]
    }
   ],
   "source": [
    "if __name__ == \"__main__\":\n",
    "    # Initialize arrays\n",
    "    src = np.array([10, 20, 30, 40, 50, 60], dtype=np.int32)\n",
    "    lookup = np.array([5, 2, 0, 3, 1, 4], dtype=np.int32)  # Which values to read from source\n",
    "    dst = np.zeros_like(src)\n",
    "    \n",
    "    # Move data to GPU\n",
    "    d_src = cuda.to_device(src)\n",
    "    d_dst = cuda.to_device(dst)\n",
    "    d_lookup = cuda.to_device(lookup)\n",
    "    \n",
    "    # Configure the grid\n",
    "    block_size = 256\n",
    "    grid_size = (dst.size + block_size - 1) // block_size\n",
    "    \n",
    "    # Run kernel\n",
    "    gather_kernel[grid_size, block_size](d_src, d_dst, d_lookup)\n",
    "    \n",
    "    # Copy result back to host\n",
    "    result = d_dst.copy_to_host()\n",
    "    \n",
    "    # Print results\n",
    "    print(\"Source array:\", src)\n",
    "    print(\"Lookup table (values to gather):\", lookup)  \n",
    "    print(\"Result array:\", result)"
   ]
  }
 ],
 "metadata": {
  "kernelspec": {
   "display_name": "hpc",
   "language": "python",
   "name": "python3"
  },
  "language_info": {
   "codemirror_mode": {
    "name": "ipython",
    "version": 3
   },
   "file_extension": ".py",
   "mimetype": "text/x-python",
   "name": "python",
   "nbconvert_exporter": "python",
   "pygments_lexer": "ipython3",
   "version": "3.10.15"
  }
 },
 "nbformat": 4,
 "nbformat_minor": 2
}
