{
 "cells": [
  {
   "cell_type": "code",
   "execution_count": 2,
   "metadata": {},
   "outputs": [],
   "source": [
    "import numpy as np\n",
    "from numba import cuda\n",
    "import numpy.typing as npt"
   ]
  },
  {
   "cell_type": "code",
   "execution_count": 3,
   "metadata": {},
   "outputs": [],
   "source": [
    "@cuda.jit\n",
    "def scatter_kernel(src: npt.NDArray, dst: npt.NDArray, lookup: npt.NDArray):\n",
    "    tid = cuda.threadIdx.x + cuda.blockIdx.x * cuda.blockDim.x\n",
    "    \n",
    "    if tid < src.size:\n",
    "        dst[lookup[tid]] = src[tid] #scatter"
   ]
  },
  {
   "cell_type": "code",
   "execution_count": 10,
   "metadata": {},
   "outputs": [
    {
     "name": "stdout",
     "output_type": "stream",
     "text": [
      "Source array: [10 20 30 40 50 60]\n",
      "Lookup table (new position): [5 2 0 3 1 4]\n",
      "Result array: [30 50 20 40 60 10]\n"
     ]
    }
   ],
   "source": [
    "src = np.array([10, 20, 30, 40, 50, 60], dtype=np.int32)\n",
    "lookup = np.array([5, 2, 0, 3, 1, 4], dtype=np.int32)  # Where each value should go\n",
    "dst = np.zeros_like(src)\n",
    "    \n",
    "# Move data to GPU\n",
    "d_src = cuda.to_device(src)\n",
    "d_dst = cuda.to_device(dst)\n",
    "d_lookup = cuda.to_device(lookup)\n",
    "    \n",
    "# Configure the grid\n",
    "block_size = 256\n",
    "grid_size = (src.size + block_size - 1) // block_size\n",
    "    \n",
    "# Run kernel\n",
    "scatter_kernel[grid_size, block_size](d_src, d_dst, d_lookup)\n",
    "    \n",
    "# Copy result back to host\n",
    "result = d_dst.copy_to_host()\n",
    "    \n",
    "# Print results\n",
    "print(\"Source array:\", src)\n",
    "print(\"Lookup table (new position):\", lookup)\n",
    "print(\"Result array:\", result)"
   ]
  }
 ],
 "metadata": {
  "kernelspec": {
   "display_name": "hpc",
   "language": "python",
   "name": "python3"
  },
  "language_info": {
   "codemirror_mode": {
    "name": "ipython",
    "version": 3
   },
   "file_extension": ".py",
   "mimetype": "text/x-python",
   "name": "python",
   "nbconvert_exporter": "python",
   "pygments_lexer": "ipython3",
   "version": "3.10.15"
  }
 },
 "nbformat": 4,
 "nbformat_minor": 2
}
